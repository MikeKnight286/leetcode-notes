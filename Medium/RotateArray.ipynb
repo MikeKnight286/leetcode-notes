{
 "cells": [
  {
   "cell_type": "markdown",
   "metadata": {},
   "source": [
    "# Problem\n",
    "\n",
    "Given an integer array nums, rotate the array to the right by k steps, where k is non-negative.\n",
    "\n",
    "#### Example 1:\n",
    "\n",
    "Input: nums = [1,2,3,4,5,6,7], k = 3\n",
    "\n",
    "Output: [5,6,7,1,2,3,4]\n",
    "\n",
    "Explanation:\n",
    "\n",
    "rotate 1 steps to the right: [7,1,2,3,4,5,6]\n",
    "\n",
    "rotate 2 steps to the right: [6,7,1,2,3,4,5]\n",
    "\n",
    "rotate 3 steps to the right: [5,6,7,1,2,3,4]\n",
    "\n",
    "#### Example 2:\n",
    "\n",
    "Input: nums = [-1,-100,3,99], k = 2\n",
    "\n",
    "Output: [3,99,-1,-100]\n",
    "\n",
    "Explanation: \n",
    "\n",
    "rotate 1 steps to the right: [99,-1,-100,3]\n",
    "\n",
    "rotate 2 steps to the right: [3,99,-1,-100]"
   ]
  },
  {
   "cell_type": "markdown",
   "metadata": {},
   "source": [
    "### Thought Process\n",
    "\n",
    "Reverse the entire array for example 2 : [99, 3, -100, -1]\n",
    "\n",
    "Reverse the first k half : [3, 99, -100, -1]\n",
    "\n",
    "Reverse the second half: [3, 99, -1, -100]"
   ]
  },
  {
   "cell_type": "code",
   "execution_count": null,
   "metadata": {},
   "outputs": [],
   "source": [
    "class Solution(object):\n",
    "    def rotate(self, nums, k):\n",
    "        \"\"\"\n",
    "        :type nums: List[int]\n",
    "        :type k: int\n",
    "        :rtype: None Do not return anything, modify nums in-place instead.\n",
    "        \"\"\"\n",
    "        n = len(nums)\n",
    "        k = k % n # To avoid unncessary rotations like 100 times \n",
    "\n",
    "        def reverse(start, end):\n",
    "            while start < end:\n",
    "                nums[start], nums[end] = nums[end], nums[start]\n",
    "                start, end = start + 1, end - 1\n",
    "        \n",
    "        reverse(0, n-1) # Reverse the entire array\n",
    "        reverse(0, k-1) # Reverse the first k half\n",
    "        reverse(k, n-1) # Reverse the remaining half\n"
   ]
  }
 ],
 "metadata": {
  "kernelspec": {
   "display_name": "base",
   "language": "python",
   "name": "python3"
  },
  "language_info": {
   "name": "python",
   "version": "3.8.8"
  }
 },
 "nbformat": 4,
 "nbformat_minor": 2
}
