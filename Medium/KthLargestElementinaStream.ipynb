{
 "cells": [
  {
   "cell_type": "markdown",
   "metadata": {},
   "source": [
    "# Problem\n",
    "\n",
    "Design a class to find the kth largest element in a stream. Note that it is the kth largest element in the sorted order, not the kth distinct element.\n",
    "\n",
    "Implement KthLargest class:\n",
    "\n",
    "KthLargest(int k, int[] nums) Initializes the object with the integer k and the stream of integers nums.\n",
    "\n",
    "int add(int val) Appends the integer val to the stream and returns the element representing the kth largest element in the stream.\n",
    " \n",
    "#### Example 1:\n",
    "\n",
    "Input\n",
    "\n",
    "[\"KthLargest\", \"add\", \"add\", \"add\", \"add\", \"add\"]\n",
    "\n",
    "[[3, [4, 5, 8, 2]], [3], [5], [10], [9], [4]]\n",
    "\n",
    "Output\n",
    "\n",
    "[null, 4, 5, 5, 8, 8]\n",
    "\n",
    "Explanation\n",
    "\n",
    "KthLargest kthLargest = new KthLargest(3, [4, 5, 8, 2]);\n",
    "\n",
    "kthLargest.add(3);   // return 4\n",
    "\n",
    "kthLargest.add(5);   // return 5\n",
    "\n",
    "kthLargest.add(10);  // return 5\n",
    "\n",
    "kthLargest.add(9);   // return 8\n",
    "\n",
    "kthLargest.add(4);   // return 8\n",
    " \n",
    "\n",
    "Constraints:\n",
    "\n",
    "1 <= k <= $10^4$\n",
    "\n",
    "0 <= nums.length <= $10^4$\n",
    "\n",
    "-$10^4$ <= nums[i] <= $10^4$\n",
    "\n",
    "-$10^4$ <= val <= $10^4$\n",
    "\n",
    "At most $10^4$ calls will be made to add.\n",
    "\n",
    "It is guaranteed that there will be at least k elements in the array when you search for the kth element."
   ]
  },
  {
   "cell_type": "markdown",
   "metadata": {},
   "source": [
    "### Thought Process"
   ]
  },
  {
   "cell_type": "code",
   "execution_count": null,
   "metadata": {},
   "outputs": [],
   "source": [
    "import heapq\n",
    "from typing import List\n",
    "\n",
    "class KthLargest:\n",
    "    \n",
    "    def __init__(self, k: int, nums: List[int]):\n",
    "        self.minHeap = nums\n",
    "        self.k = k\n",
    "        # initialize min-heap with first k elements\n",
    "        heapq.heapify(self.minHeap)\n",
    "        # keep only k largest elements\n",
    "        while len(self.minHeap) > self.k:\n",
    "            heapq.heappop(self.minHeap)\n",
    "\n",
    "    def add(self, val: int) -> int:\n",
    "        # add new element to min-heap\n",
    "        heapq.heappush(self.minHeap, val)\n",
    "        # if minHeap size exceeds k, remove the smallest element\n",
    "        if len(self.minHeap) > self.k:\n",
    "            heapq.heappop(self.minHeap)\n",
    "    \n",
    "        return self.minHeap[0]\n",
    "\n",
    "# Your KthLargest object will be instantiated and called as such:\n",
    "# obj = KthLargest(k, nums)\n",
    "# param_1 = obj.add(val)"
   ]
  }
 ],
 "metadata": {
  "kernelspec": {
   "display_name": "base",
   "language": "python",
   "name": "python3"
  },
  "language_info": {
   "name": "python",
   "version": "3.8.8"
  }
 },
 "nbformat": 4,
 "nbformat_minor": 2
}
