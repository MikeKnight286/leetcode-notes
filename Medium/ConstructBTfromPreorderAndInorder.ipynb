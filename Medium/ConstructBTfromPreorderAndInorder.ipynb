{
 "cells": [
  {
   "cell_type": "markdown",
   "metadata": {},
   "source": [
    "# Problem\n",
    "\n",
    "Given two integer arrays preorder and inorder where preorder is the preorder traversal of a binary tree and inorder is the inorder traversal of the same tree, construct and return the binary tree."
   ]
  },
  {
   "cell_type": "markdown",
   "metadata": {},
   "source": [
    "### Thought Process\n",
    "\n",
    "The preorder traversal provides information about the root node (root -> l -> r), while the inorder traversal helps determine the arrangement of nodes in the left and right subtrees relative to the root (l -> root -> r)."
   ]
  },
  {
   "cell_type": "code",
   "execution_count": null,
   "metadata": {},
   "outputs": [],
   "source": [
    "# Definition for a binary tree node.\n",
    "from typing import List, Optional\n",
    "\n",
    "class TreeNode:\n",
    "    def __init__(self, val=0, left=None, right=None):\n",
    "        self.val = val\n",
    "        self.left = left\n",
    "        self.right = right\n",
    "\n",
    "class Solution:\n",
    "    def buildTree(self, preorder: List[int], inorder: List[int]) -> Optional[TreeNode]:\n",
    "        if not preorder or not inorder:\n",
    "            return None\n",
    "        root = TreeNode(preorder[0])\n",
    "        mid = inorder.index(preorder[0]) # find index of root in inorder\n",
    "        root.left = self.buildTree(preorder[1:mid+1], inorder[:mid]) # left subtree\n",
    "        root.right = self.buildTree(preorder[mid+1:], inorder[mid+1:]) # right subtree\n",
    "        return root\n",
    "        \n",
    "        \n"
   ]
  }
 ],
 "metadata": {
  "kernelspec": {
   "display_name": "base",
   "language": "python",
   "name": "python3"
  },
  "language_info": {
   "name": "python",
   "version": "3.8.8"
  }
 },
 "nbformat": 4,
 "nbformat_minor": 2
}
