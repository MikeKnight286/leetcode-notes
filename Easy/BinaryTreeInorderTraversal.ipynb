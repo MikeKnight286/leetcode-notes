{
 "cells": [
  {
   "cell_type": "markdown",
   "metadata": {},
   "source": [
    "# Problem\n",
    "\n",
    "Given the root of a binary tree, return the inorder traversal of its nodes' values."
   ]
  },
  {
   "cell_type": "code",
   "execution_count": null,
   "metadata": {},
   "outputs": [],
   "source": [
    "# Definition for a binary tree node.\n",
    "class TreeNode:\n",
    "    def __init__(self, val=0, left=None, right=None):\n",
    "        self.val = val\n",
    "        self.left = left\n",
    "        self.right = right\n",
    "from typing import List, Optional\n",
    "\n",
    "\n",
    "class Solution:\n",
    "    def inorderTraversal(self, root: Optional[TreeNode]) -> List[int]:\n",
    "        if not root:\n",
    "            return []\n",
    "        left_subtree = self.inorderTraversal(root.left)\n",
    "        result = [root.val]\n",
    "        right_subtree = self.inorderTraversal(root.right)\n",
    "\n",
    "        return left_subtree + result + right_subtree"
   ]
  }
 ],
 "metadata": {
  "kernelspec": {
   "display_name": "base",
   "language": "python",
   "name": "python3"
  },
  "language_info": {
   "name": "python",
   "version": "3.8.8"
  }
 },
 "nbformat": 4,
 "nbformat_minor": 2
}
