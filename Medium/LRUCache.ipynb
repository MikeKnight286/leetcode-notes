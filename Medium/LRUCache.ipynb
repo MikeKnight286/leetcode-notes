{
 "cells": [
  {
   "cell_type": "markdown",
   "metadata": {},
   "source": [
    "# Problem\n",
    "\n",
    "Design a data structure that follows the constraints of a Least Recently Used (LRU) cache.\n",
    "\n",
    "Implement the LRUCache class:\n",
    "\n",
    "- LRUCache(int capacity) Initialize the LRU cache with positive size capacity.\n",
    "- int get(int key) Return the value of the key if the key exists, otherwise return -1.\n",
    "- void put(int key, int value) Update the value of the key if the key exists. Otherwise, add the key-value pair to the cache. If the number of keys exceeds the capacity from this operation, evict the least recently used key.\n",
    "- The functions get and put must each run in O(1) average time complexity.\n",
    "\n"
   ]
  },
  {
   "cell_type": "markdown",
   "metadata": {},
   "source": [
    "# Thought Process\n",
    "\n",
    "LRU - used the earliest time, putting and getting the keys in cache is equal to using them\n",
    "\n",
    "Use hash map that stores key and double link list node\n",
    "\n",
    "Double link list node will have head and tail - From head to tail would be most recently used to least recently used\n",
    "\n",
    "Head will point to tail in right direction (next), tail will point to head in left direction (prev)\n",
    "\n",
    "Put function would check the key, if not exist -> input the key,value pair right after head, if exist, delete the original address of the key and put it right after the head \n",
    "\n",
    "If get function is called, if key exists-> return the value and delete the original address of the key and put it right after the head"
   ]
  }
 ],
 "metadata": {
  "language_info": {
   "name": "python"
  }
 },
 "nbformat": 4,
 "nbformat_minor": 2
}
