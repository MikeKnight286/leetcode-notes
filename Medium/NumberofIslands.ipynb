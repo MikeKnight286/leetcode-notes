{
 "cells": [
  {
   "cell_type": "markdown",
   "metadata": {},
   "source": [
    "# Problem\n",
    "\n",
    "Given an m x n 2D binary grid grid which represents a map of '1's (land) and '0's (water), return the number of islands.\n",
    "\n",
    "An island is surrounded by water and is formed by connecting adjacent lands horizontally or vertically. You may assume all four edges of the grid are all surrounded by water.\n",
    "\n",
    "#### Example 1:\n",
    "\n",
    "Input: grid = [\n",
    "\n",
    "  [\"1\",\"1\",\"1\",\"1\",\"0\"],\n",
    "\n",
    "  [\"1\",\"1\",\"0\",\"1\",\"0\"],\n",
    "\n",
    "  [\"1\",\"1\",\"0\",\"0\",\"0\"],\n",
    "\n",
    "  [\"0\",\"0\",\"0\",\"0\",\"0\"]\n",
    "]\n",
    "\n",
    "\n",
    "#### Example 2:\n",
    "\n",
    "Input: grid = [\n",
    "\n",
    "  [\"1\",\"1\",\"0\",\"0\",\"0\"],\n",
    "\n",
    "  [\"1\",\"1\",\"0\",\"0\",\"0\"],\n",
    "\n",
    "  [\"0\",\"0\",\"1\",\"0\",\"0\"],\n",
    "\n",
    "  [\"0\",\"0\",\"0\",\"1\",\"1\"]\n",
    "\n",
    "]\n",
    "Output: 3\n",
    " \n",
    "Constraints:\n",
    "\n",
    "m == grid.length\n",
    "\n",
    "n == grid[i].length\n",
    "\n",
    "1 <= m, n <= 300\n",
    "\n",
    "grid[i][j] is '0' or '1'."
   ]
  },
  {
   "cell_type": "markdown",
   "metadata": {},
   "source": [
    "### Thought Process\n",
    "\n",
    "Use DFS to mark all visited lands "
   ]
  },
  {
   "cell_type": "code",
   "execution_count": null,
   "metadata": {},
   "outputs": [],
   "source": [
    "from typing import List\n",
    "\n",
    "\n",
    "class Solution:\n",
    "    def numIslands(self, grid: List[List[str]]) -> int:\n",
    "        def dfs(row, col):\n",
    "            if min(row, col) < 0:\n",
    "                return \n",
    "            if row >= len(grid) or col >= len(grid[0]):\n",
    "                return\n",
    "            if grid[row][col] != '1': # if not land\n",
    "                return \n",
    "            grid[row][col] = '0' #if land, mark it as water to show you have visited\n",
    "            dfs(row+1,col)\n",
    "            dfs(row-1,col)\n",
    "            dfs(row,col+1)\n",
    "            dfs(row,col-1)\n",
    "\n",
    "        num_islands = 0\n",
    "        for row in range(len(grid)):\n",
    "            for col in range(len(grid[0])):\n",
    "                if grid[row][col] == '1':\n",
    "                    num_islands += 1\n",
    "                    dfs(row, col) # then find all connecting lands and mark them as visited\n",
    "        return num_islands"
   ]
  }
 ],
 "metadata": {
  "kernelspec": {
   "display_name": "base",
   "language": "python",
   "name": "python3"
  },
  "language_info": {
   "name": "python",
   "version": "3.8.8"
  }
 },
 "nbformat": 4,
 "nbformat_minor": 2
}
