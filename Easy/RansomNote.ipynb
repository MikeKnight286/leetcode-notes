{
 "cells": [
  {
   "cell_type": "markdown",
   "metadata": {},
   "source": [
    "# Problem\n",
    "\n",
    "Given two strings ransomNote and magazine, return true if ransomNote can be constructed by using the letters from magazine and false otherwise.\n",
    "\n",
    "Each letter in magazine can only be used once in ransomNote.\n",
    "\n",
    " \n",
    "\n",
    "#### Example 1:\n",
    "\n",
    "Input: ransomNote = \"a\", magazine = \"b\"\n",
    "\n",
    "Output: false\n",
    "\n",
    "#### Example 2:\n",
    "\n",
    "Input: ransomNote = \"aa\", magazine = \"ab\"\n",
    "\n",
    "Output: false\n",
    "\n",
    "#### Example 3:\n",
    "\n",
    "Input: ransomNote = \"aa\", magazine = \"aab\"\n",
    "\n",
    "Output: true\n",
    " \n",
    "\n",
    "Constraints:\n",
    "\n",
    "1 <= ransomNote.length, magazine.length <= $10^5$\n",
    "\n",
    "ransomNote and magazine consist of lowercase English letters."
   ]
  },
  {
   "cell_type": "code",
   "execution_count": null,
   "metadata": {},
   "outputs": [],
   "source": [
    "from typing import Counter\n",
    "\n",
    "class Solution:\n",
    "    def canConstruct(self, ransomNote: str, magazine: str) -> bool:\n",
    "        return Counter(magazine) >= Counter(ransomNote)"
   ]
  }
 ],
 "metadata": {
  "kernelspec": {
   "display_name": "base",
   "language": "python",
   "name": "python3"
  },
  "language_info": {
   "name": "python",
   "version": "3.8.8"
  }
 },
 "nbformat": 4,
 "nbformat_minor": 2
}
