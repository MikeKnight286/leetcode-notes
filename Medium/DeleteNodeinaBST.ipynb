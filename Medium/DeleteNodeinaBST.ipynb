{
 "cells": [
  {
   "cell_type": "markdown",
   "metadata": {},
   "source": [
    "# Problem\n",
    "\n",
    "Given a root node reference of a BST and a key, delete the node with the given key in the BST. Return the root node reference (possibly updated) of the BST.\n",
    "\n",
    "Basically, the deletion can be divided into two stages:\n",
    "\n",
    "Search for a node to remove.\n",
    "    \n",
    "If the node is found, delete the node.\n",
    "\n",
    "#### Example 1:\n",
    "\n",
    "Input: root = [5,3,6,2,4,null,7], key = 3\n",
    "\n",
    "Output: [5,4,6,2,null,null,7]\n",
    "\n",
    "Explanation: Given key to delete is 3. So we find the node with value 3 and delete it.\n",
    "\n",
    "One valid answer is [5,4,6,2,null,null,7], shown in the above BST.\n",
    "\n",
    "Please notice that another valid answer is [5,2,6,null,4,null,7] and it's also accepted.\n",
    "\n",
    "#### Example 2:\n",
    "\n",
    "Input: root = [5,3,6,2,4,null,7], key = 0\n",
    "\n",
    "Output: [5,3,6,2,4,null,7]\n",
    "\n",
    "Explanation: The tree does not contain a node with value = 0.\n",
    "\n",
    "#### Example 3:\n",
    "\n",
    "Input: root = [], key = 0\n",
    "\n",
    "Output: []"
   ]
  },
  {
   "cell_type": "code",
   "execution_count": null,
   "metadata": {},
   "outputs": [],
   "source": [
    "# Definition for a binary tree node.\n",
    "from typing import Optional\n",
    "class TreeNode:\n",
    "    def __init__(self, val=0, left=None, right=None):\n",
    "        self.val = val\n",
    "        self.left = left\n",
    "        self.right = right\n",
    "class Solution:\n",
    "    def minNode(self, root):\n",
    "        curr = root\n",
    "        while curr and curr.left:\n",
    "            curr = curr.left\n",
    "        return curr\n",
    "    def deleteNode(self, root: Optional[TreeNode], key: int) -> Optional[TreeNode]:\n",
    "        if not root:\n",
    "            return None\n",
    "        \n",
    "        if key > root.val:\n",
    "            root.right = self.deleteNode(root.right, key)\n",
    "        elif key < root.val:\n",
    "            root.left = self.deleteNode(root.left, key)\n",
    "        else:\n",
    "            if root.left is None:\n",
    "                return root.right\n",
    "            elif root.right is None:\n",
    "                return root.left\n",
    "            else:\n",
    "                minimumNode = self.minNode(root.right)\n",
    "                root.right = self.deleteNode(root.right, minimumNode.val)\n",
    "        return root"
   ]
  }
 ],
 "metadata": {
  "kernelspec": {
   "display_name": "base",
   "language": "python",
   "name": "python3"
  },
  "language_info": {
   "name": "python",
   "version": "3.8.8"
  }
 },
 "nbformat": 4,
 "nbformat_minor": 2
}
