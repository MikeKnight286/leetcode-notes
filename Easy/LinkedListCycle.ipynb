{
 "cells": [
  {
   "cell_type": "markdown",
   "metadata": {},
   "source": [
    "# Problem\n",
    "\n",
    "Given head, the head of a linked list, determine if the linked list has a cycle in it.\n",
    "\n",
    "There is a cycle in a linked list if there is some node in the list that can be reached again by continuously following the next pointer. \n",
    "\n",
    "Internally, pos is used to denote the index of the node that tail's next pointer is connected to. Note that pos is not passed as a parameter.\n",
    "\n",
    "Return true if there is a cycle in the linked list. Otherwise, return false.\n",
    "\n",
    "\n",
    "#### Example 1:\n",
    "\n",
    "Input: head = [3,2,0,-4], pos = 1\n",
    "\n",
    "Output: true\n",
    "\n",
    "Explanation: There is a cycle in the linked list, where the tail connects to the 1st node (0-indexed).\n",
    "\n",
    "#### Example 2:\n",
    "\n",
    "Input: head = [1,2], pos = 0\n",
    "\n",
    "Output: true\n",
    "\n",
    "Explanation: There is a cycle in the linked list, where the tail connects to the 0th node.\n",
    "\n",
    "#### Example 3:\n",
    "\n",
    "Input: head = [1], pos = -1\n",
    "\n",
    "Output: false\n",
    "\n",
    "Explanation: There is no cycle in the linked list.\n",
    " \n",
    "Constraints:\n",
    "\n",
    "The number of the nodes in the list is in the range [0, $10^4$].\n",
    "\n",
    "$-10^5$ <= Node.val <= $10^5$\n",
    "\n",
    "pos is -1 or a valid index in the linked-list.\n",
    " \n",
    "\n",
    "Follow up: Can you solve it using O(1) (i.e. constant) memory?"
   ]
  },
  {
   "cell_type": "markdown",
   "metadata": {},
   "source": [
    "### Thought Process\n",
    "\n",
    "Hash table - Store which nodes we have traversed, if seen again -> Found a cycle\n",
    "\n",
    "Two pointer - Floyd's Cycle-Finding Algorithm (Slow and Fast pointers)"
   ]
  },
  {
   "cell_type": "code",
   "execution_count": null,
   "metadata": {},
   "outputs": [],
   "source": [
    "# Definition for singly-linked list.\n",
    "class ListNode:\n",
    "    def __init__(self, x):\n",
    "        self.val = x\n",
    "        self.next = None\n",
    "\n",
    "from typing import Optional\n",
    "\n",
    "# class Solution:\n",
    "#     def hasCycle(self, head: Optional[ListNode]) -> bool:\n",
    "#         seen = set()\n",
    "#         current = head\n",
    "#         while current:\n",
    "#             if current in seen:\n",
    "#                 return True\n",
    "#             seen.add(current)\n",
    "#             current = current.next\n",
    "#         return False\n",
    "\n",
    "class Solution:\n",
    "    def hasCycle(self, head: Optional[ListNode]) -> bool:\n",
    "        slow = head\n",
    "        fast = head\n",
    "        while fast and fast.next:\n",
    "            slow = slow.next # next node\n",
    "            fast = fast.next.next # next next node\n",
    "            if slow == fast:\n",
    "                return True\n",
    "        return False"
   ]
  }
 ],
 "metadata": {
  "kernelspec": {
   "display_name": "base",
   "language": "python",
   "name": "python3"
  },
  "language_info": {
   "name": "python",
   "version": "3.8.8"
  }
 },
 "nbformat": 4,
 "nbformat_minor": 2
}
