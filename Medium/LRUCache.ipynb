{
 "cells": [
  {
   "cell_type": "markdown",
   "metadata": {},
   "source": [
    "# Problem\n",
    "\n",
    "Design a data structure that follows the constraints of a Least Recently Used (LRU) cache.\n",
    "\n",
    "Implement the LRUCache class:\n",
    "\n",
    "- LRUCache(int capacity) Initialize the LRU cache with positive size capacity.\n",
    "- int get(int key) Return the value of the key if the key exists, otherwise return -1.\n",
    "- void put(int key, int value) Update the value of the key if the key exists. Otherwise, add the key-value pair to the cache. If the number of keys exceeds the capacity from this operation, evict the least recently used key.\n",
    "- The functions get and put must each run in O(1) average time complexity.\n",
    "\n"
   ]
  },
  {
   "cell_type": "markdown",
   "metadata": {},
   "source": [
    "# Thought Process\n",
    "\n",
    "LRU - used the earliest time, putting and getting the keys in cache is equal to using them\n",
    "\n",
    "Use hash map that stores key and double link list node\n",
    "\n",
    "Double link list node will have head and tail - From head to tail would be most recently used to least recently used\n",
    "\n",
    "Head will point to tail in right direction (next), tail will point to head in left direction (prev)\n",
    "\n",
    "Put function would check the key, if not exist -> input the key,value pair right after head, if exist, delete the original address of the key and put it right after the head \n",
    "\n",
    "If get function is called, if key exists-> return the value and delete the original address of the key and put it right after the head"
   ]
  },
  {
   "cell_type": "code",
   "execution_count": 2,
   "metadata": {},
   "outputs": [],
   "source": [
    "class LRUCache:\n",
    "    # Nested class showing DLL contains, key, value and pointers to prev and next nodes\n",
    "    class Node:\n",
    "        def __init__(self, key, val):\n",
    "            self.key = key\n",
    "            self.val = val\n",
    "            self.prev = None\n",
    "            self.next = None\n",
    "\n",
    "    # Dummy head and tail nodes, pointing each other and a hash map\n",
    "    def __init__(self, capacity: int):\n",
    "        self.capacity = capacity\n",
    "        self.head = self.Node(-1, -1) # Initialize head (-1,-1) for sentinel values\n",
    "        self.tail = self.Node(-1, -1) # Initialize tail (-1,-1) for sentinel values\n",
    "        self.head.next = self.tail \n",
    "        self.tail.prev = self.head\n",
    "        self.hash_map = {}\n",
    "    \n",
    "    def addNode(self, newNode):\n",
    "        temp = self.head.next # temporary node and put it right after head node\n",
    "        newNode.next = temp # new node's next node would be temporary node, putting in front of first real node\n",
    "        newNode.prev = self.head # new node's prev node would be head node\n",
    "        self.head.next = newNode # head node's next node would be new node\n",
    "        temp.prev = newNode # temp node's prev node would be new node\n",
    "\n",
    "    def deleteNode(self, delNode):\n",
    "        prev_del = delNode.prev # prev node before the deleted node\n",
    "        next_del = delNode.next # next node after the deleted node\n",
    "        prev_del.next = next_del # now point prev node and next node each other\n",
    "        next_del.prev = prev_del\n",
    "\n",
    "    def get(self, key: int) -> int:\n",
    "        if key in self.hash_map:\n",
    "            resultNode = self.hash_map[key] # get the node using the key from hash map\n",
    "            answer = resultNode.val # get the value from the node\n",
    "            del self.hash_map[key] # delete the key from hash map\n",
    "            self.deleteNode(resultNode) # delete the node from DLL original positon\n",
    "            self.addNode(resultNode) # add the node right after the head node\n",
    "            self.hash_map[key] = self.head.next # point the key right after head node\n",
    "            return answer\n",
    "        return -1 # if key does not exist\n",
    "\n",
    "    def put(self, key: int, value: int) -> None:\n",
    "        if key in self.hash_map: \n",
    "            curr = self.hash_map[key]\n",
    "            del self.hash_map[key] # delete the key from hashmap\n",
    "            self.deleteNode(curr) # delete the node from DLL\n",
    "\n",
    "        if len(self.hash_map) == self.capacity: # if capacity is full\n",
    "            del self.hash_map[self.tail.prev.key] # delete the least recently used key which is in front of the tail node\n",
    "            self.deleteNode(self.tail.prev) # delete the least recently used node\n",
    "        \n",
    "        self.addNode(self.Node(key,value)) # add the node to DLL\n",
    "        self.hash_map[key] = self.head.next # point it right after head\n",
    "        "
   ]
  },
  {
   "cell_type": "code",
   "execution_count": 3,
   "metadata": {},
   "outputs": [
    {
     "name": "stdout",
     "output_type": "stream",
     "text": [
      "All tests passed successfully.\n"
     ]
    }
   ],
   "source": [
    "def test_LRUCache():\n",
    "    # Test case 1: Basic put and get\n",
    "    cache = LRUCache(2)\n",
    "    cache.put(1, 1)\n",
    "    cache.put(2, 2)\n",
    "    assert cache.get(1) == 1, \"get(1) should return 1\"\n",
    "    cache.put(3, 3) # This should evict key 2\n",
    "    assert cache.get(2) == -1, \"get(2) should return -1 because it was evicted\"\n",
    "\n",
    "    # Test case 2: Replacing value for existing key\n",
    "    cache.put(1, 10)\n",
    "    assert cache.get(1) == 10, \"get(1) should return 10 after updating its value\"\n",
    "\n",
    "    # Test case 3: LRU property check\n",
    "    cache.put(4, 4) # This should evict key 3\n",
    "    assert cache.get(3) == -1, \"get(3) should return -1 because it was evicted\"\n",
    "    assert cache.get(4) == 4, \"get(4) should return 4\"\n",
    "    assert cache.get(1) == 10, \"get(1) should return 10\"\n",
    "\n",
    "    # Test case 4: Capacity constraint\n",
    "    cache = LRUCache(1)\n",
    "    cache.put(1, 1)\n",
    "    cache.put(2, 2) # This should evict key 1\n",
    "    assert cache.get(1) == -1, \"get(1) should return -1 because it was evicted\"\n",
    "    assert cache.get(2) == 2, \"get(2) should return 2\"\n",
    "\n",
    "    print(\"All tests passed successfully.\")\n",
    "\n",
    "test_LRUCache()\n"
   ]
  }
 ],
 "metadata": {
  "kernelspec": {
   "display_name": "base",
   "language": "python",
   "name": "python3"
  },
  "language_info": {
   "codemirror_mode": {
    "name": "ipython",
    "version": 3
   },
   "file_extension": ".py",
   "mimetype": "text/x-python",
   "name": "python",
   "nbconvert_exporter": "python",
   "pygments_lexer": "ipython3",
   "version": "3.8.8"
  }
 },
 "nbformat": 4,
 "nbformat_minor": 2
}
