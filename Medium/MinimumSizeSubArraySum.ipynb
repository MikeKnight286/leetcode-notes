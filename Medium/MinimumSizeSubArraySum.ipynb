{
 "cells": [
  {
   "cell_type": "markdown",
   "metadata": {},
   "source": [
    "# Problem\n",
    "\n",
    "Given an array of positive integers nums and a positive integer target, return the minimal length of a subarray whose sum is greater than or equal to target. If there is no such subarray, return 0 instead.\n",
    "\n",
    "#### Example 1:\n",
    "\n",
    "Input: target = 7, nums = [2,3,1,2,4,3]\n",
    "\n",
    "Output: 2\n",
    "\n",
    "Explanation: The subarray [4,3] has the minimal length under the problem constraint.\n",
    "\n",
    "#### Example 2:\n",
    "\n",
    "Input: target = 4, nums = [1,4,4]\n",
    "\n",
    "Output: 1\n",
    "\n",
    "Example 3:\n",
    "\n",
    "Input: target = 11, nums = [1,1,1,1,1,1,1,1]\n",
    "\n",
    "Output: 0\n",
    " \n",
    "Constraints:\n",
    "\n",
    "1 <= target <= $10^9$\n",
    "\n",
    "1 <= nums.length <= $10^5$\n",
    "\n",
    "1 <= nums[i] <= $10^4$\n",
    " \n",
    "\n",
    "Follow up: If you have figured out the O(n) solution, try coding another solution of which the time complexity is O(n log(n))."
   ]
  },
  {
   "cell_type": "markdown",
   "metadata": {},
   "source": [
    "### Thought Process\n",
    "\n"
   ]
  },
  {
   "cell_type": "code",
   "execution_count": null,
   "metadata": {},
   "outputs": [],
   "source": [
    "class Solution:\n",
    "    def minSubArrayLen(self, target: int, nums: List[int]) -> int:\n",
    "        if sum(nums) < target:\n",
    "            return 0\n",
    "        \n",
    "        current, left, ans = 0, 0, len(nums)\n",
    "\n",
    "        for right, val in enumerate(nums):\n",
    "            current += val # add values from right\n",
    "            while current >= target: # if value is less than target\n",
    "                current -= nums[left] #remove the leftmost value\n",
    "                ans = min(ans, right - left + 1) # minimum between current ans length and size of sliding window\n",
    "                left += 1 # move to left pointer to next value\n",
    "        \n",
    "        return ans\n"
   ]
  }
 ],
 "metadata": {
  "kernelspec": {
   "display_name": "base",
   "language": "python",
   "name": "python3"
  },
  "language_info": {
   "codemirror_mode": {
    "name": "ipython",
    "version": 3
   },
   "file_extension": ".py",
   "mimetype": "text/x-python",
   "name": "python",
   "nbconvert_exporter": "python",
   "pygments_lexer": "ipython3",
   "version": "3.8.8"
  }
 },
 "nbformat": 4,
 "nbformat_minor": 2
}
