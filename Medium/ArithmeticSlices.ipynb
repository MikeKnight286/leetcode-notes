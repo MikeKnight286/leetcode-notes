{
 "cells": [
  {
   "cell_type": "markdown",
   "metadata": {},
   "source": [
    "# Problem\n",
    "\n",
    "An integer array is called arithmetic if it consists of at least three elements and if the difference between any two consecutive elements is the same.\n",
    "\n",
    "For example, [1,3,5,7,9], [7,7,7,7], and [3,-1,-5,-9] are arithmetic sequences.\n",
    "\n",
    "Given an integer array nums, return the number of arithmetic subarrays of nums.\n",
    "\n",
    "A subarray is a contiguous subsequence of the array.\n",
    "\n",
    "#### Example 1:\n",
    "\n",
    "Input: nums = [1,2,3,4]\n",
    "\n",
    "Output: 3\n",
    "\n",
    "Explanation: We have 3 arithmetic slices in nums: [1, 2, 3], [2, 3, 4] and [1,2,3,4] itself.\n",
    "\n",
    "#### Example 2:\n",
    "\n",
    "Input: nums = [1]\n",
    "\n",
    "Output: 0\n"
   ]
  },
  {
   "cell_type": "markdown",
   "metadata": {},
   "source": [
    "### Thought Process \n",
    "\n",
    "Start from third element since we neeed at least three elements to form an arithmetic slice. Check the differences between first two and last two. If it is same, it is an arithmeitc slice. Increment the length of slice and count of slices. Reset the length if it is not arithmetic slice"
   ]
  },
  {
   "cell_type": "code",
   "execution_count": null,
   "metadata": {},
   "outputs": [],
   "source": [
    "from typing import List\n",
    "\n",
    "\n",
    "class Solution:\n",
    "    def numberOfArithmeticSlices(self, nums: List[int]) -> int:\n",
    "        count = 0 # number of arithmetic slices\n",
    "        curr_length = 0 # current length of arithmetic slice\n",
    "\n",
    "        for i in range(2, len(nums)):\n",
    "            if nums[i] - nums[i-1] == nums[i-1] - nums[i-2]:\n",
    "                curr_length += 1 # add 1 to length of current arithmetic slice\n",
    "                count += curr_length # increment the count by 1\n",
    "            else:\n",
    "                curr_length = 0 # reset the length if it is no longer arithmetic slice\n",
    "        \n",
    "        return count"
   ]
  }
 ],
 "metadata": {
  "kernelspec": {
   "display_name": "base",
   "language": "python",
   "name": "python3"
  },
  "language_info": {
   "name": "python",
   "version": "3.8.8"
  }
 },
 "nbformat": 4,
 "nbformat_minor": 2
}
