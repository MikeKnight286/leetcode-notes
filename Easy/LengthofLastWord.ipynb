{
 "cells": [
  {
   "cell_type": "markdown",
   "metadata": {},
   "source": [
    "# Problem\n",
    "\n",
    "Given a string s consisting of words and spaces, return the length of the last word in the string.\n",
    "\n",
    "A word is a maximal substring consisting of non-space characters only.\n",
    "\n",
    " \n",
    "\n",
    "#### Example 1:\n",
    "\n",
    "Input: s = \"Hello World\"\n",
    "\n",
    "Output: 5\n",
    "\n",
    "Explanation: The last word is \"World\" with length 5.\n",
    "    \n",
    "#### Example 2:\n",
    "\n",
    "Input: s = \"   fly me   to   the moon  \"\n",
    "\n",
    "Output: 4\n",
    "\n",
    "Explanation: The last word is \"moon\" with length 4.\n",
    "    \n",
    "#### Example 3:\n",
    "\n",
    "Input: s = \"luffy is still joyboy\"\n",
    "\n",
    "Output: 6\n",
    "\n",
    "Explanation: The last word is \"joyboy\" with length 6."
   ]
  },
  {
   "cell_type": "markdown",
   "metadata": {},
   "source": [
    "### Thought Process\n",
    "\n",
    "Instead of splitting every word, only split the first one from the right (last one). To that end, the built-in rsplitcan be used."
   ]
  },
  {
   "cell_type": "code",
   "execution_count": null,
   "metadata": {},
   "outputs": [],
   "source": [
    "class Solution:\n",
    "    def lengthOfLastWord(self, s: str) -> int:\n",
    "        last = s.rsplit(maxsplit=1)[-1]\n",
    "        return len(last)"
   ]
  }
 ],
 "metadata": {
  "kernelspec": {
   "display_name": "base",
   "language": "python",
   "name": "python3"
  },
  "language_info": {
   "name": "python",
   "version": "3.8.8"
  }
 },
 "nbformat": 4,
 "nbformat_minor": 2
}
