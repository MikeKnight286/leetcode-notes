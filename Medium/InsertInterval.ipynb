{
 "cells": [
  {
   "cell_type": "markdown",
   "metadata": {},
   "source": [
    "# Problem\n",
    "\n",
    "You are given an array of non-overlapping intervals intervals where intervals[i] = [starti, endi] represent the start and the end of the ith interval and intervals is sorted in ascending order by starti. You are also given an interval newInterval = [start, end] that represents the start and end of another interval.\n",
    "\n",
    "Insert newInterval into intervals such that intervals is still sorted in ascending order by starti and intervals still does not have any overlapping intervals (merge overlapping intervals if necessary).\n",
    "\n",
    "Return intervals after the insertion.\n",
    "\n",
    "Note that you don't need to modify intervals in-place. You can make a new array and return it.\n",
    "\n",
    " \n",
    "\n",
    "#### Example 1:\n",
    "\n",
    "Input: intervals = [[1,3],[6,9]], newInterval = [2,5]\n",
    "\n",
    "Output: [[1,5],[6,9]]\n",
    "\n",
    "#### Example 2:\n",
    "\n",
    "Input: intervals = [[1,2],[3,5],[6,7],[8,10],[12,16]], newInterval = [4,8]\n",
    "\n",
    "Output: [[1,2],[3,10],[12,16]]\n",
    "\n",
    "Explanation: Because the new interval [4,8] overlaps with [3,5],[6,7],[8,10].\n",
    " \n",
    "\n",
    "Constraints:\n",
    "\n",
    "0 <= intervals.length <= $10^4$\n",
    "\n",
    "intervals[i].length == 2\n",
    "\n",
    "0 <= starti <= endi <= $10^5$\n",
    "\n",
    "intervals is sorted by starti in ascending order.\n",
    "\n",
    "newInterval.length == 2\n",
    "\n",
    "0 <= start <= end <= $10^5$"
   ]
  },
  {
   "cell_type": "code",
   "execution_count": null,
   "metadata": {},
   "outputs": [],
   "source": [
    "from typing import List\n",
    "\n",
    "class Solution:\n",
    "    def insert(self, intervals: List[List[int]], newInterval: List[int]) -> List[List[int]]:\n",
    "        merged = []\n",
    "        i = 0\n",
    "\n",
    "        # Find where the start of new interval should be inserted\n",
    "        while i < len(intervals) and intervals[i][1] < newInterval[0]:\n",
    "            merged.append(intervals[i])\n",
    "            i += 1\n",
    "        \n",
    "        # If end of new Interval is greater or equal to existing one,\n",
    "        while i < len(intervals) and intervals[i][0] <= newInterval[1]:\n",
    "            # add the newly merged one by taking min for start and max for end\n",
    "            newInterval = [min(newInterval[0], intervals[i][0]), max(newInterval[1], intervals[i][1])]\n",
    "            i += 1\n",
    "        merged.append(newInterval)\n",
    "\n",
    "        while i < len(intervals):\n",
    "            merged.append(intervals[i])\n",
    "            i += 1\n",
    "        \n",
    "        return merged"
   ]
  }
 ],
 "metadata": {
  "kernelspec": {
   "display_name": "base",
   "language": "python",
   "name": "python3"
  },
  "language_info": {
   "name": "python",
   "version": "3.8.8"
  }
 },
 "nbformat": 4,
 "nbformat_minor": 2
}
