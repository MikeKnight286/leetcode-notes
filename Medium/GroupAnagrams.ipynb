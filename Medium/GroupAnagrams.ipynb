{
 "cells": [
  {
   "cell_type": "markdown",
   "metadata": {},
   "source": [
    "# Problem\n",
    "\n",
    "Given an array of strings strs, group the anagrams together. You can return the answer in any order.\n",
    "\n",
    "An Anagram is a word or phrase formed by rearranging the letters of a different word or phrase, typically using all the original letters exactly once.\n",
    "\n",
    "#### Example 1:\n",
    "\n",
    "Input: strs = [\"eat\",\"tea\",\"tan\",\"ate\",\"nat\",\"bat\"]\n",
    "\n",
    "Output: [[\"bat\"],[\"nat\",\"tan\"],[\"ate\",\"eat\",\"tea\"]]\n",
    "\n",
    "#### Example 2:\n",
    "\n",
    "Input: strs = [\"\"]\n",
    "\n",
    "Output: [[\"\"]]\n",
    "\n",
    "#### Example 3:\n",
    "\n",
    "Input: strs = [\"a\"]\n",
    "\n",
    "Output: [[\"a\"]]\n"
   ]
  },
  {
   "cell_type": "markdown",
   "metadata": {},
   "source": [
    "# Thought Process\n",
    "\n",
    "Hash map\n",
    "- sort the words and save them to an unordered map as keys\n",
    "- push the words to map as values, since keys are unique: the hash map would look like \"sorted_word\" : [\"word1\", \"word2\"]\n",
    "- return the values as list"
   ]
  },
  {
   "cell_type": "code",
   "execution_count": 1,
   "metadata": {},
   "outputs": [],
   "source": [
    "from typing import List\n",
    "from collections import defaultdict"
   ]
  },
  {
   "cell_type": "code",
   "execution_count": 6,
   "metadata": {},
   "outputs": [],
   "source": [
    "class Solution:\n",
    "    def groupAnagrams(self, strs: List[str]) -> List[List[str]]:\n",
    "        anagram_map = defaultdict(list)\n",
    "\n",
    "        for word in strs:\n",
    "            sorted_word = ''.join(sorted(word)) # sort the word alphabetically \n",
    "            anagram_map[sorted_word].append(word) # add the sorted word as key and the word itself as value\n",
    "\n",
    "        return list(anagram_map.values())"
   ]
  },
  {
   "cell_type": "code",
   "execution_count": 7,
   "metadata": {},
   "outputs": [
    {
     "name": "stdout",
     "output_type": "stream",
     "text": [
      "All tests passed.\n"
     ]
    }
   ],
   "source": [
    "def test_groupAnagrams():\n",
    "    solution = Solution()\n",
    "    test_cases = [\n",
    "        ([\"eat\", \"tea\", \"tan\", \"ate\", \"nat\", \"bat\"], [[\"bat\"], [\"nat\", \"tan\"], [\"ate\", \"eat\", \"tea\"]]),\n",
    "        ([\"\"], [[\"\"]]),\n",
    "        ([\"a\"], [[\"a\"]]),\n",
    "    ]\n",
    "\n",
    "    for i,(strs, expected) in enumerate(test_cases):\n",
    "        result = solution.groupAnagrams(strs)\n",
    "        # Sort inner lists and outer list for comparison\n",
    "        sorted_result = sorted([sorted(group) for group in result])\n",
    "        sorted_expected = sorted([sorted(group) for group in expected])\n",
    "\n",
    "        assert sorted_result == sorted_expected, f\"Failed for {strs}. Expected {sorted_expected}, got {sorted_result}\"\n",
    "\n",
    "    print(\"All tests passed.\")\n",
    "\n",
    "test_groupAnagrams()\n"
   ]
  }
 ],
 "metadata": {
  "kernelspec": {
   "display_name": "base",
   "language": "python",
   "name": "python3"
  },
  "language_info": {
   "codemirror_mode": {
    "name": "ipython",
    "version": 3
   },
   "file_extension": ".py",
   "mimetype": "text/x-python",
   "name": "python",
   "nbconvert_exporter": "python",
   "pygments_lexer": "ipython3",
   "version": "3.8.8"
  }
 },
 "nbformat": 4,
 "nbformat_minor": 2
}
