{
 "cells": [
  {
   "cell_type": "markdown",
   "metadata": {},
   "source": [
    "# Problem\n",
    "\n",
    "Given a string s containing just the characters '(', ')', '{', '}', '[' and ']', determine if the input string is valid.\n",
    "\n",
    "An input string is valid if:\n",
    "\n",
    "1. Open brackets must be closed by the same type of brackets.\n",
    "2. Open brackets must be closed in the correct order.\n",
    "3. Every close bracket has a corresponding open bracket of the same type."
   ]
  },
  {
   "cell_type": "markdown",
   "metadata": {},
   "source": [
    "### Thought Process\n",
    "Add the opening parentheses to the stack\n",
    "If closing parentheses comes, check if there is an opening one in the stack, otherwise not valid"
   ]
  },
  {
   "cell_type": "code",
   "execution_count": null,
   "metadata": {},
   "outputs": [],
   "source": [
    "class Solution(object):\n",
    "    def isValid(self, s):\n",
    "        \"\"\"\n",
    "        :type s: str\n",
    "        :rtype: bool\n",
    "        \"\"\"\n",
    "        stack = []\n",
    "        closing = { ')' : '(', ']' : '[', '}' : '{' }\n",
    "        for c in s:\n",
    "            if c in closing:\n",
    "                if stack and stack[-1] == closing[c]:\n",
    "                    stack.pop()\n",
    "                else:\n",
    "                    return False\n",
    "            else:\n",
    "                stack.append(c)\n",
    "        return True if not stack else False"
   ]
  }
 ],
 "metadata": {
  "kernelspec": {
   "display_name": "base",
   "language": "python",
   "name": "python3"
  },
  "language_info": {
   "name": "python",
   "version": "3.8.8"
  }
 },
 "nbformat": 4,
 "nbformat_minor": 2
}
