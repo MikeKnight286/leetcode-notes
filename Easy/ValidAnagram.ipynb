{
 "cells": [
  {
   "cell_type": "markdown",
   "metadata": {},
   "source": [
    "# Problem\n",
    "\n",
    "Given two strings s and t, return true if t is an anagram of s, and false otherwise.\n",
    "\n",
    "An Anagram is a word or phrase formed by rearranging the letters of a different word or phrase, typically using all the original letters exactly once.\n",
    "\n",
    "#### Example 1:\n",
    "\n",
    "Input: s = \"anagram\", t = \"nagaram\"\n",
    "\n",
    "Output: true\n",
    "\n",
    "#### Example 2:\n",
    "\n",
    "Input: s = \"rat\", t = \"car\"\n",
    "\n",
    "Output: false\n",
    "\n",
    "Follow up: What if the inputs contain Unicode characters? How would you adapt your solution to such a case?"
   ]
  },
  {
   "cell_type": "markdown",
   "metadata": {},
   "source": [
    "## Thought Process\n",
    "\n",
    "Compare the characters in both strings and check if they have same characters but in different order\n",
    "\n",
    "Not using sorting because of time complexity O(n log n) \n",
    "\n",
    "Using hashmap - time complexity O(n)\n",
    "- Count the frequenct of character in first string, reduce it by 1 when the second string has the same char, when count for each char becomes 0 --> shows same characters in both strings\n"
   ]
  },
  {
   "cell_type": "code",
   "execution_count": 1,
   "metadata": {},
   "outputs": [],
   "source": [
    "from collections import defaultdict"
   ]
  },
  {
   "cell_type": "code",
   "execution_count": 2,
   "metadata": {},
   "outputs": [],
   "source": [
    "class Solution:\n",
    "    def isAnagram(self, s: str, t: str) -> bool:\n",
    "        count = defaultdict(int)\n",
    "\n",
    "        for char in s:\n",
    "            count[char] += 1\n",
    "\n",
    "        for char in t:\n",
    "            count[char] -= 1\n",
    "\n",
    "        for val in count.values(): # Counting the frequency of each character\n",
    "            if val != 0:\n",
    "                return False\n",
    "        return True\n",
    "    \n",
    "# from typing import Counter\n",
    "# class Solution:\n",
    "#     def isAnagram(self, s: str, t: str) -> bool:\n",
    "#         return Counter(s) == Counter(t)"
   ]
  },
  {
   "cell_type": "code",
   "execution_count": 4,
   "metadata": {},
   "outputs": [
    {
     "name": "stdout",
     "output_type": "stream",
     "text": [
      "Test case 1 passed.\n",
      "Test case 2 passed.\n"
     ]
    }
   ],
   "source": [
    "def test():\n",
    "    solution = Solution()\n",
    "\n",
    "    test_cases=[\n",
    "        ('anagram','nagaram',True),\n",
    "        ('rat','cat',False)\n",
    "    ]\n",
    "\n",
    "    for i,(s,t,bool) in enumerate(test_cases):\n",
    "        result = solution.isAnagram(s,t)\n",
    "        assert result==bool, f\"Test case {i+1} failed: expected {bool}, got {result}\"\n",
    "        print(f\"Test case {i+1} passed.\")\n",
    "    \n",
    "test()"
   ]
  }
 ],
 "metadata": {
  "kernelspec": {
   "display_name": "base",
   "language": "python",
   "name": "python3"
  },
  "language_info": {
   "codemirror_mode": {
    "name": "ipython",
    "version": 3
   },
   "file_extension": ".py",
   "mimetype": "text/x-python",
   "name": "python",
   "nbconvert_exporter": "python",
   "pygments_lexer": "ipython3",
   "version": "3.8.8"
  }
 },
 "nbformat": 4,
 "nbformat_minor": 2
}
