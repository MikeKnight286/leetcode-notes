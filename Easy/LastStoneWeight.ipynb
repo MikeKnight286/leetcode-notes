{
 "cells": [
  {
   "cell_type": "markdown",
   "metadata": {},
   "source": [
    "# Problem\n",
    "\n",
    "You are given an array of integers stones where stones[i] is the weight of the ith stone.\n",
    "\n",
    "We are playing a game with the stones. On each turn, we choose the heaviest two stones and smash them together. Suppose the heaviest two stones have weights x and y with x <= y. The result of this smash is:\n",
    "\n",
    "If x == y, both stones are destroyed, and\n",
    "\n",
    "If x != y, the stone of weight x is destroyed, and the stone of weight y has new weight y - x.\n",
    "\n",
    "At the end of the game, there is at most one stone left.\n",
    "\n",
    "Return the weight of the last remaining stone. If there are no stones left, return 0.\n",
    "\n",
    "#### Example 1:\n",
    "\n",
    "Input: stones = [2,7,4,1,8,1]\n",
    "\n",
    "Output: 1\n",
    "\n",
    "Explanation: \n",
    "\n",
    "We combine 7 and 8 to get 1 so the array converts to [2,4,1,1,1] then,\n",
    "\n",
    "we combine 2 and 4 to get 2 so the array converts to [2,1,1,1] then,\n",
    "\n",
    "we combine 2 and 1 to get 1 so the array converts to [1,1,1] then,\n",
    "\n",
    "we combine 1 and 1 to get 0 so the array converts to [1] then that's the value of the last stone.\n",
    "\n",
    "#### Example 2:\n",
    "\n",
    "Input: stones = [1]\n",
    "\n",
    "Output: 1\n",
    " \n",
    "Constraints:\n",
    "\n",
    "1 <= stones.length <= 30\n",
    "\n",
    "1 <= stones[i] <= 1000"
   ]
  },
  {
   "cell_type": "markdown",
   "metadata": {},
   "source": [
    "### Thought Process"
   ]
  },
  {
   "cell_type": "code",
   "execution_count": null,
   "metadata": {},
   "outputs": [],
   "source": [
    "import heapq\n",
    "from typing import List\n",
    "\n",
    "class Solution:\n",
    "    def lastStoneWeight(self, stones: List[int]) -> int:\n",
    "        stones = [-weight for weight in stones] #negative weight in-place\n",
    "        heapq.heapify(stones)\n",
    "        while stones:\n",
    "            s1 = -heapq.heappop(stones) # the heaviest stone\n",
    "            if not stones:\n",
    "                return s1\n",
    "            s2 = -heapq.heappop(stones) # the second heaviest stone\n",
    "            if s1 > s2:\n",
    "                heapq.heapppush(stones, s2 - s1) # push the value of s2 - s1\n",
    "        return 0"
   ]
  }
 ],
 "metadata": {
  "language_info": {
   "name": "python"
  }
 },
 "nbformat": 4,
 "nbformat_minor": 2
}
