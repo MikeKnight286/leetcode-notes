{
 "cells": [
  {
   "cell_type": "markdown",
   "metadata": {},
   "source": [
    "# Problem\n",
    "\n",
    "Given an array of distinct integers candidates and a target integer target, return a list of all unique combinations of candidates where the chosen numbers sum to target. You may return the combinations in any order.\n",
    "\n",
    "The same number may be chosen from candidates an unlimited number of times. Two combinations are unique if the frequency of at least one of the chosen numbers is different.\n",
    "\n",
    "The test cases are generated such that the number of unique combinations that sum up to target is less than 150 combinations for the given input.\n",
    "\n",
    "#### Example 1:\n",
    "\n",
    "Input: candidates = [2,3,6,7], target = 7\n",
    "\n",
    "Output: [[2,2,3],[7]]\n",
    "\n",
    "Explanation:\n",
    "\n",
    "2 and 3 are candidates, and 2 + 2 + 3 = 7. Note that 2 can be used multiple times.\n",
    "\n",
    "7 is a candidate, and 7 = 7.\n",
    "\n",
    "These are the only two combinations.\n",
    "\n",
    "#### Example 2:\n",
    "\n",
    "Input: candidates = [2,3,5], target = 8\n",
    "\n",
    "Output: [[2,2,2,2],[2,3,3],[3,5]]\n",
    "\n",
    "#### Example 3:\n",
    "\n",
    "Input: candidates = [2], target = 1\n",
    "\n",
    "Output: []\n",
    " \n",
    "Constraints:\n",
    "\n",
    "1 <= candidates.length <= 30\n",
    "\n",
    "2 <= candidates[i] <= 40\n",
    "\n",
    "All elements of candidates are distinct.\n",
    "\n",
    "1 <= target <= 40"
   ]
  },
  {
   "cell_type": "markdown",
   "metadata": {},
   "source": [
    "### Thought Process\n",
    "\n"
   ]
  },
  {
   "cell_type": "code",
   "execution_count": null,
   "metadata": {},
   "outputs": [],
   "source": [
    "from typing import List\n",
    "\n",
    "class Solution:\n",
    "    def combinationSum(self, candidates: List[int], target: int) -> List[List[int]]:\n",
    "        ans = []\n",
    "        n = len(candidates)\n",
    "        def dfs(cur_list, cur_sum, idx):\n",
    "            # if current sum exceeds target: not possible, stop this path or Out of bounds\n",
    "            if idx >= n or cur_sum > target:\n",
    "                return \n",
    "            # if current sum is equal to target: found one case\n",
    "            if cur_sum == target:\n",
    "                ans.append(cur_list)\n",
    "            # for each index, add it to current list and find the cur_sum -> check target conditions -> repeat for each index (E.G : [2], [2,2], [2,2,2] [2,2,2,2] which is now > target: thus not possible, move to next index)\n",
    "            for i in range(idx, n):\n",
    "                dfs(cur_list + [candidates[i]], cur_sum + candidates[i], i)\n",
    "        dfs([], 0, 0)\n",
    "        return ans"
   ]
  }
 ],
 "metadata": {
  "kernelspec": {
   "display_name": "base",
   "language": "python",
   "name": "python3"
  },
  "language_info": {
   "name": "python",
   "version": "3.8.8"
  }
 },
 "nbformat": 4,
 "nbformat_minor": 2
}
