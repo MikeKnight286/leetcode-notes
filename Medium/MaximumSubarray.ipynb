{
 "cells": [
  {
   "cell_type": "markdown",
   "metadata": {},
   "source": [
    "# Problem\n",
    "\n",
    "Given an integer array nums, find the subarray with the largest sum, and return its sum.\n",
    "\n",
    "### Example 1:\n",
    "\n",
    "Input: nums = [-2,1,-3,4,-1,2,1,-5,4]\n",
    "\n",
    "Output: 6\n",
    "\n",
    "Explanation: The subarray [4,-1,2,1] has the largest sum 6.\n",
    "\n",
    "### Example 2:\n",
    "\n",
    "Input: nums = [1]\n",
    "\n",
    "Output: 1\n",
    "\n",
    "Explanation: The subarray [1] has the largest sum 1.\n",
    "\n",
    "### Example 3:\n",
    "\n",
    "Input: nums = [5,4,-1,7,8]\n",
    "\n",
    "Output: 23\n",
    "\n",
    "Explanation: The subarray [5,4,-1,7,8] has the largest sum 23."
   ]
  },
  {
   "cell_type": "markdown",
   "metadata": {},
   "source": [
    "## Thought Process\n",
    "\n",
    "Set max and current sum. Keep track of current sum and compare it to max everytime"
   ]
  },
  {
   "cell_type": "code",
   "execution_count": 2,
   "metadata": {},
   "outputs": [],
   "source": [
    "from typing import List"
   ]
  },
  {
   "cell_type": "code",
   "execution_count": 5,
   "metadata": {},
   "outputs": [],
   "source": [
    "class Solution:\n",
    "    def maxSubArray(self, nums: List[int]) -> int:\n",
    "        currentSum = nums[0]\n",
    "        maxSum = nums[0]\n",
    "\n",
    "        # Start from second element of nums\n",
    "        for num in nums[1:]:\n",
    "            currentSum = max(num, currentSum + num) # Compare currentSum to addition of num and currentSum for max currentSum\n",
    "            maxSum = max(maxSum, currentSum) # Compare currentSum to maxSum for maxSum all time\n",
    "\n",
    "        return maxSum\n"
   ]
  },
  {
   "cell_type": "code",
   "execution_count": 6,
   "metadata": {},
   "outputs": [
    {
     "name": "stdout",
     "output_type": "stream",
     "text": [
      "Test case 1 passed.\n",
      "Test case 2 passed.\n",
      "Test case 3 passed.\n"
     ]
    }
   ],
   "source": [
    "def test():\n",
    "    solution = Solution()\n",
    "\n",
    "    test_cases=[\n",
    "        ([-2,1,-3,4,-1,2,1,-5,4], 6),\n",
    "        ([1], 1),\n",
    "        ([5,4,-1,7,8], 23)\n",
    "    ]\n",
    "\n",
    "    for i, (list,target) in enumerate(test_cases):\n",
    "        result = solution.maxSubArray(list)\n",
    "        assert result==target, f\"Test case {i+1} failed: expected {target}, got {result}\" \n",
    "        print(f\"Test case {i+1} passed.\")\n",
    "\n",
    "test()\n"
   ]
  }
 ],
 "metadata": {
  "kernelspec": {
   "display_name": "base",
   "language": "python",
   "name": "python3"
  },
  "language_info": {
   "codemirror_mode": {
    "name": "ipython",
    "version": 3
   },
   "file_extension": ".py",
   "mimetype": "text/x-python",
   "name": "python",
   "nbconvert_exporter": "python",
   "pygments_lexer": "ipython3",
   "version": "3.8.8"
  }
 },
 "nbformat": 4,
 "nbformat_minor": 2
}
