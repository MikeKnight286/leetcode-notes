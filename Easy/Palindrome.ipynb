{
 "cells": [
  {
   "cell_type": "markdown",
   "metadata": {},
   "source": [
    "# Problem\n",
    "\n",
    "Given an integer x, return true if x is a \n",
    "palindrome\n",
    ", and false otherwise.\n",
    "\n",
    " \n",
    "\n",
    "### Example 1:\n",
    "\n",
    "Input: x = 121\n",
    "Output: true\n",
    "Explanation: 121 reads as 121 from left to right and from right to left.\n",
    "\n",
    "### Example 2:\n",
    "\n",
    "Input: x = -121\n",
    "Output: false\n",
    "Explanation: From left to right, it reads -121. From right to left, it becomes 121-. Therefore it is not a palindrome.\n",
    "\n",
    "### Example 3:\n",
    "\n",
    "Input: x = 10\n",
    "Output: false\n",
    "Explanation: Reads 01 from right to left. Therefore it is not a palindrome.\n",
    "\n",
    "### Follow up: Could you solve it without converting the integer to a string?"
   ]
  },
  {
   "cell_type": "markdown",
   "metadata": {},
   "source": [
    "## Thought Process\n",
    "\n",
    "Reverse the entire input, check if it is same - but if long input, no good\n",
    "\n",
    "Only reverse the half of the input, if odd numbers, ignore middle digit - less time complexity"
   ]
  },
  {
   "cell_type": "code",
   "execution_count": 7,
   "metadata": {},
   "outputs": [],
   "source": [
    "class Solution:\n",
    "    def isPalindrome(self, x: int) -> bool:\n",
    "        if x < 0 or (x!=0 and x%10 ==0 ): # if x is negative or divisible by 10 (leading zeros)\n",
    "            return False\n",
    "        \n",
    "        reversed_num = 0\n",
    "        original = x\n",
    "\n",
    "        while original > reversed_num: \n",
    "            reversed_num = reversed_num * 10 + original % 10 # grab the last digit of original by moduling it with 10 and put it to reversed_num\n",
    "            original = original // 10 # remove last digit of original by divison with 10\n",
    "\n",
    "        return original == reversed_num or original == reversed_num // 10 # ignoring if origianl has odd numbers by division with 10\n"
   ]
  },
  {
   "cell_type": "code",
   "execution_count": 8,
   "metadata": {},
   "outputs": [
    {
     "name": "stdout",
     "output_type": "stream",
     "text": [
      "Test case 1 passed.\n",
      "Test case 2 passed.\n",
      "Test case 3 passed.\n"
     ]
    }
   ],
   "source": [
    "#Test Function\n",
    "def test():\n",
    "    solution = Solution()\n",
    "\n",
    "    test_cases = [\n",
    "        (121, True),\n",
    "        (-121, False),\n",
    "        (10, False)\n",
    "    ]\n",
    "\n",
    "    for i, (int, bool) in enumerate(test_cases):\n",
    "        result = solution.isPalindrome(int)\n",
    "        assert result == bool, f\"Test case {i+1} failed: expected {bool}, got {result}\" \n",
    "        print(f\"Test case {i+1} passed.\")\n",
    "\n",
    "test()"
   ]
  }
 ],
 "metadata": {
  "kernelspec": {
   "display_name": "base",
   "language": "python",
   "name": "python3"
  },
  "language_info": {
   "codemirror_mode": {
    "name": "ipython",
    "version": 3
   },
   "file_extension": ".py",
   "mimetype": "text/x-python",
   "name": "python",
   "nbconvert_exporter": "python",
   "pygments_lexer": "ipython3",
   "version": "3.8.8"
  }
 },
 "nbformat": 4,
 "nbformat_minor": 2
}
