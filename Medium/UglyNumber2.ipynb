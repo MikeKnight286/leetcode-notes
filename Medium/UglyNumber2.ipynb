{
 "cells": [
  {
   "cell_type": "markdown",
   "metadata": {},
   "source": [
    "# Problem\n",
    "\n",
    "An ugly number is a positive integer whose prime factors are limited to 2, 3, and 5.\n",
    "\n",
    "Given an integer n, return the nth ugly number.\n",
    "\n",
    "#### Example 1:\n",
    "\n",
    "Input: n = 10\n",
    "\n",
    "Output: 12\n",
    "\n",
    "Explanation: [1, 2, 3, 4, 5, 6, 8, 9, 10, 12] is the sequence of the first 10 ugly numbers.\n",
    "\n",
    "#### Example 2:\n",
    "\n",
    "Input: n = 1\n",
    "\n",
    "Output: 1\n",
    "\n",
    "Explanation: 1 has no prime factors, therefore all of its prime factors are limited to 2, 3, and 5.\n"
   ]
  },
  {
   "cell_type": "markdown",
   "metadata": {},
   "source": [
    "### Thought Process\n",
    "\n",
    "Dynamic Programming approach. Three pointers to keep track of multiples of 2, 3 and 5. Find min to generate the next ugly number. Time, Space - O(n) as it stores n ugly numbers and itereate all n elements one time"
   ]
  },
  {
   "cell_type": "code",
   "execution_count": null,
   "metadata": {},
   "outputs": [],
   "source": [
    "class Solution:\n",
    "    def nthUglyNumber(self, n: int) -> int:\n",
    "        ugly = [0] * n # initialize list of ugly numbers with 0\n",
    "        p2 = p3 = p5 = 0\n",
    "        ugly[0] = 1 # set the first element as 1\n",
    "        for i in range(1,n):\n",
    "            ugly[i] = min(ugly[p2]*2, ugly[p3]*3, ugly[p5]*5) #generate next ugly number as minimum of next multiples of 2, 3 and 5\n",
    "            if(ugly[i] == ugly[p2]*2): p2 += 1\n",
    "            if(ugly[i] == ugly[p3]*3): p3 += 1\n",
    "            if(ugly[i] == ugly[p5]*5): p5 += 1\n",
    "        return ugly[-1]"
   ]
  }
 ],
 "metadata": {
  "language_info": {
   "name": "python"
  }
 },
 "nbformat": 4,
 "nbformat_minor": 2
}
