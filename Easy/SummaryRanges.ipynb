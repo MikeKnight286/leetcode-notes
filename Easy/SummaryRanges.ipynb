{
 "cells": [
  {
   "cell_type": "markdown",
   "metadata": {},
   "source": [
    "# Problem\n",
    "\n",
    "You are given a sorted unique integer array nums.\n",
    "\n",
    "A range [a,b] is the set of all integers from a to b (inclusive).\n",
    "\n",
    "Return the smallest sorted list of ranges that cover all the numbers in the array exactly. That is, each element of nums is covered by exactly one of the ranges, and there is no integer x such that x is in one of the ranges but not in nums.\n",
    "\n",
    "Each range [a,b] in the list should be output as:\n",
    "\n",
    "\"a->b\" if a != b\n",
    "\n",
    "\"a\" if a == b\n",
    " \n",
    "\n",
    "#### Example 1:\n",
    "\n",
    "Input: nums = [0,1,2,4,5,7]\n",
    "\n",
    "Output: [\"0->2\",\"4->5\",\"7\"]\n",
    "\n",
    "Explanation: The ranges are:\n",
    "\n",
    "[0,2] --> \"0->2\"\n",
    "\n",
    "[4,5] --> \"4->5\"\n",
    "\n",
    "[7,7] --> \"7\"\n",
    "\n",
    "#### Example 2:\n",
    "\n",
    "Input: nums = [0,2,3,4,6,8,9]\n",
    "\n",
    "Output: [\"0\",\"2->4\",\"6\",\"8->9\"]\n",
    "\n",
    "Explanation: The ranges are:\n",
    "\n",
    "[0,0] --> \"0\"\n",
    "\n",
    "[2,4] --> \"2->4\"\n",
    "\n",
    "[6,6] --> \"6\"\n",
    "\n",
    "[8,9] --> \"8->9\"\n",
    " \n",
    "\n",
    "Constraints:\n",
    "\n",
    "0 <= nums.length <= 20\n",
    "\n",
    "-2^31 <= nums[i] <= 2^31 - 1\n",
    "\n",
    "All the values of nums are unique.\n",
    "\n",
    "nums is sorted in ascending order."
   ]
  },
  {
   "cell_type": "code",
   "execution_count": null,
   "metadata": {},
   "outputs": [],
   "source": [
    "from typing import List\n",
    "\n",
    "class Solution:\n",
    "    def summaryRanges(self, nums: List[int]) -> List[str]:\n",
    "        ranges = []\n",
    "        for n in nums:\n",
    "            if ranges and ranges[-1][1] == n - 1: # Check if current number continues the last range\n",
    "                ranges[-1][1] = n # update the end of the last range to include current number\n",
    "            else:\n",
    "                ranges.append([n,n]) # start a new range with current number as both start and end\n",
    "        return [f'{x}->{y}' if x != y else f'{x}' for x, y in ranges]"
   ]
  }
 ],
 "metadata": {
  "kernelspec": {
   "display_name": "base",
   "language": "python",
   "name": "python3"
  },
  "language_info": {
   "name": "python",
   "version": "3.8.8"
  }
 },
 "nbformat": 4,
 "nbformat_minor": 2
}
