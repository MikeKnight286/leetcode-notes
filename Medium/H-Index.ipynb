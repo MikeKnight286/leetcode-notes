{
 "cells": [
  {
   "cell_type": "markdown",
   "metadata": {},
   "source": [
    "# Problem\n",
    "\n",
    "Given an array of integers citations where citations[i] is the number of citations a researcher received for their ith paper, return the researcher's h-index.\n",
    "\n",
    "According to the definition of h-index on Wikipedia: The h-index is defined as the maximum value of h such that the given researcher has published at least h papers that have each been cited at least h times.\n",
    "\n",
    "Example 1:\n",
    "\n",
    "Input: citations = [3,0,6,1,5]\n",
    "\n",
    "Output: 3\n",
    "\n",
    "Explanation: [3,0,6,1,5] means the researcher has 5 papers in total and each of them had received 3, 0, 6, 1, 5 citations respectively.\n",
    "\n",
    "Since the researcher has 3 papers with at least 3 citations each and the remaining two with no more than 3 citations each, their h-index is 3.\n",
    "\n",
    "Example 2:\n",
    "\n",
    "Input: citations = [1,3,1]\n",
    "\n",
    "Output: 1"
   ]
  },
  {
   "cell_type": "markdown",
   "metadata": {},
   "source": [
    "### Thought Process\n",
    "\n",
    "Use bucket sort. Key - h-index cannot be larger than num of elements in the given array. Create buckets so that each bucket represent the number of times each element pops up. Then iterate the buckets in reverse order so that we find the h-index, Time - O(n), Space - O(n)"
   ]
  },
  {
   "cell_type": "code",
   "execution_count": null,
   "metadata": {},
   "outputs": [],
   "source": [
    "from typing import List\n",
    "\n",
    "\n",
    "class Solution:\n",
    "    def hIndex(self, citations: List[int]) -> int:\n",
    "        n = len(citations)\n",
    "        count = [0] * [n+1]\n",
    "\n",
    "        for c in citations:\n",
    "            if c >= n:\n",
    "                count[n] *= 1 # if paper has more citations than number of papers, increment the last bucket\n",
    "            else:\n",
    "                count[c] += 1 \n",
    "\n",
    "        total = 0\n",
    "        for i in range(n, -1, -1):\n",
    "            total += count[i]\n",
    "            if total >= i:\n",
    "                return i\n",
    "        \n",
    "        return 0\n"
   ]
  }
 ],
 "metadata": {
  "kernelspec": {
   "display_name": "base",
   "language": "python",
   "name": "python3"
  },
  "language_info": {
   "name": "python",
   "version": "3.8.8"
  }
 },
 "nbformat": 4,
 "nbformat_minor": 2
}
