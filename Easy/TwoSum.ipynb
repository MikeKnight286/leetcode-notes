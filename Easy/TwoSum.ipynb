{
 "cells": [
  {
   "cell_type": "markdown",
   "metadata": {},
   "source": [
    "# Problem\n",
    "\n",
    "Given an array of integers nums and an integer target, return indices of the two numbers such that they add up to target.\n",
    "\n",
    "You may assume that each input would have exactly one solution, and you may not use the same element twice.\n",
    "\n",
    "You can return the answer in any order.\n",
    "\n",
    " \n",
    "\n",
    "Example 1:\n",
    "\n",
    "Input: nums = [2,7,11,15], target = 9\n",
    "Output: [0,1]\n",
    "Explanation: Because nums[0] + nums[1] == 9, we return [0, 1].\n",
    "Example 2:\n",
    "\n",
    "Input: nums = [3,2,4], target = 6\n",
    "Output: [1,2]\n",
    "Example 3:\n",
    "\n",
    "Input: nums = [3,3], target = 6\n",
    "Output: [0,1]\n",
    " \n",
    "\n",
    "Constraints:\n",
    "\n",
    "2 <= nums.length <= 10＾4\n",
    "-10＾9 <= nums[i] <= 10＾9\n",
    "-10＾9 <= target <= 10＾9\n",
    "Only one valid answer exists."
   ]
  },
  {
   "cell_type": "markdown",
   "metadata": {},
   "source": [
    "# Thought Proces\n",
    "\n",
    "### Use hashmap as it is good for quick lookup of data\n",
    "### Key,value pairs\n",
    "### Time Complexity O(1) as it can be done in constant time\n"
   ]
  },
  {
   "cell_type": "markdown",
   "metadata": {},
   "source": [
    "# Solution"
   ]
  },
  {
   "cell_type": "code",
   "execution_count": 2,
   "metadata": {},
   "outputs": [],
   "source": [
    "from typing import List"
   ]
  },
  {
   "cell_type": "code",
   "execution_count": 3,
   "metadata": {},
   "outputs": [],
   "source": [
    "class Solution:\n",
    "    def twoSum(self, nums: List[int], target: int) -> List[int]:\n",
    "        # build hashmap\n",
    "        seen = {}\n",
    "        for i in range (len(nums)): # iterate the list once\n",
    "            seen[nums[i]] = i\n",
    "\n",
    "        # repeat list, find complement from target\n",
    "        for i in range(len(nums)):\n",
    "            complement = target - nums[i]\n",
    "            if complement in nums and seen[complement] != i:\n",
    "                return [i, seen[complement]]"
   ]
  },
  {
   "cell_type": "markdown",
   "metadata": {},
   "source": [
    "## Test Cases"
   ]
  },
  {
   "cell_type": "code",
   "execution_count": 7,
   "metadata": {},
   "outputs": [
    {
     "name": "stdout",
     "output_type": "stream",
     "text": [
      "Test case 1 passed.\n",
      "Test case 2 passed.\n",
      "Test case 3 passed.\n"
     ]
    }
   ],
   "source": [
    "# Test Function\n",
    "def test():\n",
    "    # Create an instance of the Solution class\n",
    "    solution = Solution()\n",
    "    \n",
    "    # Define test cases as tuples of (input_nums, target_sum, expected_output)\n",
    "    test_cases = [\n",
    "        ([2, 7, 11, 15], 9, [0, 1]),  # Example case\n",
    "        ([3, 2, 4], 6, [1, 2]),       # Another case\n",
    "        ([3, 3], 6, [0, 1]),          # Edge case with duplicate numbers\n",
    "        # Add more test cases as needed\n",
    "    ]\n",
    "    \n",
    "    # Run through each test case\n",
    "    for i, (nums, target, expected) in enumerate(test_cases):\n",
    "        result = solution.twoSum(nums, target)\n",
    "        assert sorted(result) == sorted(expected), f\"Test case {i+1} failed: expected {expected}, got {result}\"\n",
    "        print(f\"Test case {i+1} passed.\")\n",
    "    \n",
    "test()"
   ]
  }
 ],
 "metadata": {
  "kernelspec": {
   "display_name": "base",
   "language": "python",
   "name": "python3"
  },
  "language_info": {
   "codemirror_mode": {
    "name": "ipython",
    "version": 3
   },
   "file_extension": ".py",
   "mimetype": "text/x-python",
   "name": "python",
   "nbconvert_exporter": "python",
   "pygments_lexer": "ipython3",
   "version": "3.8.8"
  }
 },
 "nbformat": 4,
 "nbformat_minor": 2
}
