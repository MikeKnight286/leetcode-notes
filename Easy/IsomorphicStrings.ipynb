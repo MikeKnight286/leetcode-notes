{
 "cells": [
  {
   "cell_type": "markdown",
   "metadata": {},
   "source": [
    "# Problem\n",
    "\n",
    "Given two strings s and t, determine if they are isomorphic.\n",
    "\n",
    "Two strings s and t are isomorphic if the characters in s can be replaced to get t.\n",
    "\n",
    "All occurrences of a character must be replaced with another character while preserving the order of characters. No two characters may map to the same character, but a character may map to itself.\n",
    "\n",
    "\n",
    "#### Example 1:\n",
    "\n",
    "Input: s = \"egg\", t = \"add\"\n",
    "\n",
    "Output: true\n",
    "\n",
    "#### Example 2:\n",
    "\n",
    "Input: s = \"foo\", t = \"bar\"\n",
    "\n",
    "Output: false\n",
    "\n",
    "#### Example 3:\n",
    "\n",
    "Input: s = \"paper\", t = \"title\"\n",
    "\n",
    "Output: true\n",
    " \n",
    "Constraints:\n",
    "\n",
    "1 <= s.length <= 5 * 104\n",
    "\n",
    "t.length == s.length\n",
    "\n",
    "s and t consist of any valid ascii character."
   ]
  },
  {
   "cell_type": "code",
   "execution_count": null,
   "metadata": {},
   "outputs": [],
   "source": [
    "class Solution:\n",
    "    def isIsomorphic(self, s: str, t: str) -> bool:\n",
    "        \"\"\" if one char in s maps to two chars in t or if two chars in s map to one char in t -> False \"\"\"\n",
    "        if len(s) != len(t): return False\n",
    "        map_chars = {} # dict to map chars from s to t and t to s\n",
    "        set_vals = set() # dict to map chars already mapped to t\n",
    "        for i in range(len(s)):\n",
    "            if s[i] in map_chars: # if s_char has a map in map_chars\n",
    "                if map_chars[s[i]] != t[i]: # and it does not map to t_char\n",
    "                    return False\n",
    "            else:\n",
    "                if t[i] in set_vals: # t_char already in set Vals\n",
    "                    return False\n",
    "                # update the mappings in mapChars and setVals\n",
    "                map_chars[s[i]] = t[i] \n",
    "                set_vals.add(t[i])\n",
    "        return True"
   ]
  }
 ],
 "metadata": {
  "kernelspec": {
   "display_name": "base",
   "language": "python",
   "name": "python3"
  },
  "language_info": {
   "name": "python",
   "version": "3.8.8"
  }
 },
 "nbformat": 4,
 "nbformat_minor": 2
}
