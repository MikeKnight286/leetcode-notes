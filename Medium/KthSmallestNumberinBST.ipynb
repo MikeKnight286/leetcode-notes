{
 "cells": [
  {
   "cell_type": "markdown",
   "metadata": {},
   "source": [
    "# Problem\n",
    "\n",
    "Given the root of a binary search tree, and an integer k, return the kth smallest value (1-indexed) of all the values of the nodes in the tree.\n"
   ]
  },
  {
   "cell_type": "markdown",
   "metadata": {},
   "source": [
    "### Thought Process\n",
    "\n",
    "Use inorder, but time complexity would be O(n) as it would become a sorted array\n",
    "This can be optimized to O(log n) which is height of tree"
   ]
  },
  {
   "cell_type": "code",
   "execution_count": null,
   "metadata": {},
   "outputs": [],
   "source": [
    "# Definition for a binary tree node.\n",
    "from typing import Optional\n",
    "class TreeNode:\n",
    "    def __init__(self, val=0, left=None, right=None):\n",
    "        self.val = val\n",
    "        self.left = left\n",
    "        self.right = right\n",
    "class Solution:\n",
    "    def kthSmallest(self, root: Optional[TreeNode], k: int) -> int:\n",
    "        stack = [] # in-order traversal stack\n",
    "        n = 0 # number of visited nodes\n",
    "        curr = root\n",
    "\n",
    "        while curr or stack:\n",
    "            # Go to leftmost node\n",
    "            while curr:\n",
    "                stack.append(curr)\n",
    "                curr = curr.left\n",
    "            \n",
    "            curr = stack.pop() # Pop the leftmost one\n",
    "            n += 1 # increment visited nodes\n",
    "            if n == k: # when it reaches the kth node\n",
    "                return curr.val\n",
    "            curr = curr.right\n",
    "        \n",
    "        return None"
   ]
  }
 ],
 "metadata": {
  "kernelspec": {
   "display_name": "base",
   "language": "python",
   "name": "python3"
  },
  "language_info": {
   "name": "python",
   "version": "3.8.8"
  }
 },
 "nbformat": 4,
 "nbformat_minor": 2
}
