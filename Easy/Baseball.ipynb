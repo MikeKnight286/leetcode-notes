{
 "cells": [
  {
   "cell_type": "markdown",
   "metadata": {},
   "source": [
    "# Problem\n",
    "\n",
    "You are keeping the scores for a baseball game with strange rules. At the beginning of the game, you start with an empty record.\n",
    "\n",
    "You are given a list of strings operations, where operations[i] is the ith operation you must apply to the record and is one of the following:\n",
    "\n",
    "An integer x.\n",
    "\n",
    "Record a new score of x.\n",
    "\n",
    "'+'.\n",
    "Record a new score that is the sum of the previous two scores.\n",
    "\n",
    "'D'.\n",
    "Record a new score that is the double of the previous score.\n",
    "\n",
    "'C'.\n",
    "Invalidate the previous score, removing it from the record.\n",
    "\n",
    "Return the sum of all the scores on the record after applying all the operations.\n",
    "\n",
    "The test cases are generated such that the answer and all intermediate calculations fit in a 32-bit integer and that all operations are valid."
   ]
  },
  {
   "cell_type": "markdown",
   "metadata": {},
   "source": [
    "### Thought Process\n",
    "\n",
    "Map the operations to their calculations"
   ]
  },
  {
   "cell_type": "code",
   "execution_count": null,
   "metadata": {},
   "outputs": [],
   "source": [
    "from typing import List\n",
    "\n",
    "class Solution:\n",
    "    def calPoints(self, operations: List[str]) -> int:\n",
    "        scores=[]\n",
    "        for op in operations:\n",
    "            if op == \"+\":\n",
    "                scores.append(scores[-1] + scores[-2]) \n",
    "            elif op ==\"D\":\n",
    "                scores.append(2*scores[-1])\n",
    "            elif op == \"C\":\n",
    "                scores.pop()\n",
    "            else:\n",
    "                scores.append(int(op))\n",
    "        return sum(scores)"
   ]
  }
 ],
 "metadata": {
  "kernelspec": {
   "display_name": "base",
   "language": "python",
   "name": "python3"
  },
  "language_info": {
   "name": "python",
   "version": "3.8.8"
  }
 },
 "nbformat": 4,
 "nbformat_minor": 2
}
