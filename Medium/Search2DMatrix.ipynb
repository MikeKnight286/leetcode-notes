{
 "cells": [
  {
   "cell_type": "markdown",
   "metadata": {},
   "source": [
    "# Problem\n",
    "\n",
    "You are given an m x n integer matrix matrix with the following two properties:\n",
    "\n",
    "Each row is sorted in non-decreasing order.\n",
    "\n",
    "The first integer of each row is greater than the last integer of the previous row.\n",
    "\n",
    "Given an integer target, return true if target is in matrix or false otherwise.\n",
    "\n",
    "You must write a solution in O(log(m * n)) time complexity.\n",
    "\n",
    "#### Example 1:\n",
    "\n",
    "Input: matrix = [[1,3,5,7],[10,11,16,20],[23,30,34,60]], target = 3\n",
    "\n",
    "Output: true\n",
    "\n",
    "#### Example 2:\n",
    "\n",
    "Input: matrix = [[1,3,5,7],[10,11,16,20],[23,30,34,60]], target = 13\n",
    "\n",
    "Output: false"
   ]
  },
  {
   "cell_type": "markdown",
   "metadata": {},
   "source": [
    "### Thought Process\n",
    "\n",
    "Consider one row, then binary search method is efficient. Binary search would be O(log n) for each row\n",
    "\n",
    "Then consider all rows, do binary search if the target is in the rows, then Time would be O(log m) for this operation\n",
    "\n",
    "Then total time complexity = O(log m) + O(log n) = O (log m * n)\n"
   ]
  },
  {
   "cell_type": "code",
   "execution_count": null,
   "metadata": {},
   "outputs": [],
   "source": [
    "class Solution:\n",
    "    def searchMatrix(self, matrix: List[List[int]], target: int) -> bool:\n",
    "        row, col = len(matrix), len(matrix[0])\n",
    "        top, bot = 0 , row - 1\n",
    "        while top<=bot:\n",
    "            row = (top+bot)//2\n",
    "            if target > matrix[row][-1]:\n",
    "                top = row + 1 # Shift to next row if target is larger than the largest val in the current row\n",
    "            elif target < matrix[row][0]:\n",
    "                bot = row - 1 # Shift to prev row if target is lower than the lowest val in the current row\n",
    "            else:\n",
    "                break\n",
    "        \n",
    "        if not (top <= bot):\n",
    "            return False\n",
    "        row = (top + bot)//2\n",
    "        l, r = 0, col -1\n",
    "        while l <= r:\n",
    "            m = (l + r)//2\n",
    "            if target > matrix[row][m]:\n",
    "                l = m + 1\n",
    "            elif target < matrix[row][m]:\n",
    "                r = m - 1\n",
    "            else:\n",
    "                return True\n",
    "        return False"
   ]
  }
 ],
 "metadata": {
  "kernelspec": {
   "display_name": "base",
   "language": "python",
   "name": "python3"
  },
  "language_info": {
   "name": "python",
   "version": "3.8.8"
  }
 },
 "nbformat": 4,
 "nbformat_minor": 2
}
