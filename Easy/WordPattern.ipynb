{
 "cells": [
  {
   "cell_type": "markdown",
   "metadata": {},
   "source": [
    "# Problem\n",
    "\n",
    "Given a pattern and a string s, find if s follows the same pattern.\n",
    "\n",
    "Here follow means a full match, such that there is a bijection between a letter in pattern and a non-empty word in s.\n",
    "\n",
    "\n",
    "#### Example 1:\n",
    "\n",
    "Input: pattern = \"abba\", s = \"dog cat cat dog\"\n",
    "\n",
    "Output: true\n",
    "\n",
    "#### Example 2:\n",
    "\n",
    "Input: pattern = \"abba\", s = \"dog cat cat fish\"\n",
    "\n",
    "Output: false\n",
    "\n",
    "#### Example 3:\n",
    "\n",
    "Input: pattern = \"aaaa\", s = \"dog cat cat dog\"\n",
    "\n",
    "Output: false\n",
    " \n",
    "Constraints:\n",
    "\n",
    "1 <= pattern.length <= 300\n",
    "\n",
    "pattern contains only lower-case English letters.\n",
    "\n",
    "1 <= s.length <= 3000\n",
    "\n",
    "s contains only lowercase English letters and spaces ' '.\n",
    "\n",
    "s does not contain any leading or trailing spaces.\n",
    "\n",
    "All the words in s are separated by a single space."
   ]
  },
  {
   "cell_type": "code",
   "execution_count": null,
   "metadata": {},
   "outputs": [],
   "source": [
    "class Solution:\n",
    "    def wordPattern(self, pattern: str, s: str) -> bool:\n",
    "        # Split the input string 's' into words\n",
    "        words = s.split(' ')\n",
    "        \n",
    "        # Create a dictionary to map words to pattern characters.\n",
    "        w_to_p = dict()\n",
    "\n",
    "        # If the number of words does not match the length of the pattern\n",
    "        if len(words) != len(pattern):\n",
    "            return False\n",
    "        \n",
    "        # Check if there's a one-to-one mapping in terms of pattern and words \n",
    "        if len(set(words)) != len(set(pattern)):\n",
    "            return False\n",
    "\n",
    "        # Iterate over the indices of the words list.\n",
    "        for i in range(len(words)):\n",
    "            # If the current word has not been mapped to a pattern character yet:\n",
    "            if words[i] not in w_to_p:\n",
    "                # Map the word to the current pattern character.\n",
    "                w_to_p[words[i]] = pattern[i]\n",
    "            # If the word is already mapped but does not match the current pattern character\n",
    "            elif w_to_p[words[i]] != pattern[i]:\n",
    "                return False\n",
    "        return True\n"
   ]
  }
 ],
 "metadata": {
  "kernelspec": {
   "display_name": "base",
   "language": "python",
   "name": "python3"
  },
  "language_info": {
   "name": "python",
   "version": "3.8.8"
  }
 },
 "nbformat": 4,
 "nbformat_minor": 2
}
