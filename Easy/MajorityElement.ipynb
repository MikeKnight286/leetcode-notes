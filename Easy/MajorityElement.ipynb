{
 "cells": [
  {
   "cell_type": "markdown",
   "metadata": {},
   "source": [
    "# Problem\n",
    "\n",
    "Given an array nums of size n, return the majority element.\n",
    "\n",
    "The majority element is the element that appears more than ⌊n / 2⌋ times. You may assume that the majority element always exists in the array.\n",
    "\n",
    "#### Example 1:\n",
    "\n",
    "Input: nums = [3,2,3]\n",
    "\n",
    "Output: 3\n",
    "\n",
    "#### Example 2:\n",
    "\n",
    "Input: nums = [2,2,1,1,1,2,2]\n",
    "\n",
    "Output: 2\n"
   ]
  },
  {
   "cell_type": "markdown",
   "metadata": {},
   "source": [
    "### Thought Process\n",
    "\n",
    "Moore Voting Algorithm\n",
    "\n",
    "majority element in the array, always remain in the lead even after encountering other elements"
   ]
  },
  {
   "cell_type": "code",
   "execution_count": 1,
   "metadata": {},
   "outputs": [],
   "source": [
    "from typing import List"
   ]
  },
  {
   "cell_type": "code",
   "execution_count": 2,
   "metadata": {},
   "outputs": [],
   "source": [
    "class Solution:\n",
    "    def majorityElement(self, nums: List[int]) -> int:\n",
    "        count = 0 # no of times element shows up\n",
    "        candidate = 0 # for majority element\n",
    "\n",
    "        for num in nums:\n",
    "            if count == 0: # Assuming first element as candidate\n",
    "                candidate = num\n",
    "        \n",
    "            if num == candidate:\n",
    "                count += 1 # add to count\n",
    "            else:\n",
    "                count -= 1 # if count = 0: no more candidate\n",
    "        return candidate\n",
    "        "
   ]
  },
  {
   "cell_type": "code",
   "execution_count": 3,
   "metadata": {},
   "outputs": [
    {
     "name": "stdout",
     "output_type": "stream",
     "text": [
      "Test case 1 passed.\n",
      "Test case 2 passed.\n"
     ]
    }
   ],
   "source": [
    "def test():\n",
    "    solution = Solution()\n",
    "\n",
    "    test_cases = [\n",
    "        ([3,2,3], 3),\n",
    "        ([2,2,1,1,1,2,2], 2)\n",
    "    ]\n",
    "\n",
    "    for i,(list, int) in enumerate(test_cases):\n",
    "        result = solution.majorityElement(list)\n",
    "        assert result==int, f'\"Test case {i+1} failed: expected {int}, got {result}'\n",
    "        print(f\"Test case {i+1} passed.\")\n",
    "test()"
   ]
  }
 ],
 "metadata": {
  "kernelspec": {
   "display_name": "base",
   "language": "python",
   "name": "python3"
  },
  "language_info": {
   "codemirror_mode": {
    "name": "ipython",
    "version": 3
   },
   "file_extension": ".py",
   "mimetype": "text/x-python",
   "name": "python",
   "nbconvert_exporter": "python",
   "pygments_lexer": "ipython3",
   "version": "3.8.8"
  }
 },
 "nbformat": 4,
 "nbformat_minor": 2
}
