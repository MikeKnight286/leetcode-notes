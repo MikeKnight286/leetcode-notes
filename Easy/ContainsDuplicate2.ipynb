{
 "cells": [
  {
   "cell_type": "markdown",
   "metadata": {},
   "source": [
    "# Problem\n",
    "\n",
    "Given an integer array nums and an integer k, return true if there are two distinct indices i and j in the array such that nums[i] == nums[j] and abs(i - j) <= k.\n",
    "\n",
    "#### Example 1:\n",
    "\n",
    "Input: nums = [1,2,3,1], k = 3\n",
    "\n",
    "Output: true\n",
    "\n",
    "#### Example 2:\n",
    "\n",
    "Input: nums = [1,0,1,1], k = 1\n",
    "\n",
    "Output: true\n",
    "\n",
    "#### Example 3:\n",
    "\n",
    "Input: nums = [1,2,3,1,2,3], k = 2\n",
    "\n",
    "Output: false\n",
    " \n",
    "Constraints:\n",
    "\n",
    "1 <= nums.length <= $10^5$\n",
    "\n",
    "$-10^9$ <= nums[i] <= $10^9$\n",
    "\n",
    "0 <= k <= $10^5$"
   ]
  },
  {
   "cell_type": "code",
   "execution_count": null,
   "metadata": {},
   "outputs": [],
   "source": [
    "from typing import List\n",
    "\n",
    "class Solution:\n",
    "    def containsNearbyDuplicate(self, nums: List[int], k: int) -> bool:\n",
    "        hashset = {} # store duplicates\n",
    "        for i in range(len(nums)):\n",
    "            # if duplicate exists and is present at less than equal to k\n",
    "            if nums[i] in hashset and abs(i - hashset[nums[i]]) <= k:\n",
    "                return True\n",
    "            hashset[nums[i]] = i # store duplicate val as key and index as val\n",
    "        return False\n"
   ]
  }
 ],
 "metadata": {
  "kernelspec": {
   "display_name": "base",
   "language": "python",
   "name": "python3"
  },
  "language_info": {
   "name": "python",
   "version": "3.8.8"
  }
 },
 "nbformat": 4,
 "nbformat_minor": 2
}
