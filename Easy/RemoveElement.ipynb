{
 "cells": [
  {
   "cell_type": "markdown",
   "metadata": {},
   "source": [
    "# Problem\n",
    "\n",
    "Given an integer array nums and an integer val, remove all occurrences of val in nums in-place. The order of the elements may be changed. Then return the number of elements in nums which are not equal to val.\n",
    "\n",
    "Consider the number of elements in nums which are not equal to val be k, to get accepted, you need to do the following things:\n",
    "\n",
    "Change the array nums such that the first k elements of nums contain the elements which are not equal to val. The remaining elements of nums are not important as well as the size of nums.\n",
    "\n",
    "Return k."
   ]
  },
  {
   "cell_type": "markdown",
   "metadata": {},
   "source": [
    "#### Example 1:\n",
    "\n",
    "Input: nums = [3,2,2,3], val = 3\n",
    "\n",
    "Output: 2, nums = [2,2,_,_]\n",
    "\n",
    "Explanation: Your function should return k = 2, with the first two elements of nums being 2.\n",
    "\n",
    "It does not matter what you leave beyond the returned k (hence they are underscores).\n",
    "\n",
    "#### Example 2:\n",
    "\n",
    "Input: nums = [0,1,2,2,3,0,4,2], val = 2\n",
    "\n",
    "Output: 5, nums = [0,1,4,0,3,_,_,_]\n",
    "\n",
    "Explanation: Your function should return k = 5, with the first five elements of nums containing 0, 0, 1, 3, and 4.\n",
    "\n",
    "Note that the five elements can be returned in any order.\n",
    "\n",
    "It does not matter what you leave beyond the returned k (hence they are underscores).\n"
   ]
  },
  {
   "cell_type": "markdown",
   "metadata": {},
   "source": [
    "## Thought Process\n",
    "\n",
    "Two pointers, one to store the non-target index and one to iterate the whole list\n",
    "\n",
    "\n"
   ]
  },
  {
   "cell_type": "code",
   "execution_count": 2,
   "metadata": {},
   "outputs": [],
   "source": [
    "from typing import List"
   ]
  },
  {
   "cell_type": "code",
   "execution_count": 3,
   "metadata": {},
   "outputs": [],
   "source": [
    "class Solution():\n",
    "    def removeElement(self, nums: List[int], val: int) -> int:\n",
    "        index = 0\n",
    "        for i in range(len(nums)):\n",
    "            if nums[i] != val:\n",
    "                nums[index] = nums[i]\n",
    "                index += 1\n",
    "        return index"
   ]
  },
  {
   "cell_type": "code",
   "execution_count": 5,
   "metadata": {},
   "outputs": [
    {
     "name": "stdout",
     "output_type": "stream",
     "text": [
      "Test case 1 passed.\n",
      "Test case 2 passed.\n"
     ]
    }
   ],
   "source": [
    "def test():\n",
    "    solution = Solution()\n",
    "\n",
    "    test_cases=[\n",
    "        ([3,2,2,3], 3, 2),\n",
    "        ([0,1,2,2,3,0,4,2], 2, 5)\n",
    "    ]\n",
    "\n",
    "    for i,(list, val, target) in enumerate(test_cases):\n",
    "        result = solution.removeElement(list, val)\n",
    "        assert result==target, f'\"Test case {i+1} failed: expected {target}, got {result}'\n",
    "        print(f\"Test case {i+1} passed.\")\n",
    "test()\n"
   ]
  },
  {
   "cell_type": "code",
   "execution_count": null,
   "metadata": {},
   "outputs": [],
   "source": []
  }
 ],
 "metadata": {
  "kernelspec": {
   "display_name": "base",
   "language": "python",
   "name": "python3"
  },
  "language_info": {
   "codemirror_mode": {
    "name": "ipython",
    "version": 3
   },
   "file_extension": ".py",
   "mimetype": "text/x-python",
   "name": "python",
   "nbconvert_exporter": "python",
   "pygments_lexer": "ipython3",
   "version": "3.8.8"
  }
 },
 "nbformat": 4,
 "nbformat_minor": 2
}
